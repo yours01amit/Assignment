{
 "cells": [
  {
   "cell_type": "markdown",
   "id": "a0ba3153",
   "metadata": {},
   "source": [
    "# Q1. Explain with an example each when to use a for loop and a while loop."
   ]
  },
  {
   "cell_type": "markdown",
   "id": "c45d6808",
   "metadata": {},
   "source": [
    "for loops can iterate over a sequence of iterable object in python. iterating over is nothing but iterating over strings,lists\n",
    ",tupes,sets and also dictionaries."
   ]
  },
  {
   "cell_type": "code",
   "execution_count": 2,
   "id": "9cdf6c10",
   "metadata": {},
   "outputs": [],
   "source": [
    "# example no.1 of for loop \n",
    "name = \"Abhishek\""
   ]
  },
  {
   "cell_type": "code",
   "execution_count": 3,
   "id": "84995791",
   "metadata": {},
   "outputs": [
    {
     "name": "stdout",
     "output_type": "stream",
     "text": [
      "A\n",
      "b\n",
      "h\n",
      "i\n",
      "s\n",
      "h\n",
      "e\n",
      "k\n"
     ]
    }
   ],
   "source": [
    "for i in name:\n",
    "    print(i)"
   ]
  },
  {
   "cell_type": "code",
   "execution_count": 4,
   "id": "56a57b2d",
   "metadata": {},
   "outputs": [
    {
     "name": "stdout",
     "output_type": "stream",
     "text": [
      "2 X 1 = 2\n",
      "2 X 2 = 4\n",
      "2 X 3 = 6\n",
      "2 X 4 = 8\n",
      "2 X 5 = 10\n",
      "2 X 6 = 12\n",
      "2 X 7 = 14\n",
      "2 X 8 = 16\n",
      "2 X 9 = 18\n",
      "2 X 10 = 20\n"
     ]
    }
   ],
   "source": [
    "# example no.2 of for loop\n",
    "# table of 2\n",
    "for i in range(1,11):\n",
    "    print(2,\"X\",i,\"=\",2*i)"
   ]
  },
  {
   "cell_type": "markdown",
   "id": "572740f1",
   "metadata": {},
   "source": [
    " A \"While\" Loop is used to repeat a specific block of code an unknown number of times, until a condition is true"
   ]
  },
  {
   "cell_type": "code",
   "execution_count": 5,
   "id": "dbfd6492",
   "metadata": {},
   "outputs": [
    {
     "name": "stdout",
     "output_type": "stream",
     "text": [
      "thank u shundhanshu sir \n",
      "thank u shundhanshu sir \n",
      "thank u shundhanshu sir \n"
     ]
    }
   ],
   "source": [
    "# example no1 of while loop\n",
    "count = 0\n",
    "while (count < 3):\n",
    "    count = count + 1\n",
    "    print(\"thank u shundhanshu sir \")"
   ]
  },
  {
   "cell_type": "code",
   "execution_count": 6,
   "id": "148b2b8a",
   "metadata": {},
   "outputs": [
    {
     "name": "stdout",
     "output_type": "stream",
     "text": [
      "0\n",
      "2\n",
      "4\n",
      "6\n",
      "8\n",
      "10\n",
      "12\n",
      "14\n",
      "16\n",
      "18\n",
      "20\n"
     ]
    }
   ],
   "source": [
    "# example no2 of while loop\n",
    "# print 1 to 20 even numbers\n",
    "i = 0\n",
    "while i<=20:\n",
    "    if i%2==0:\n",
    "        print(i)\n",
    "    i+=1"
   ]
  },
  {
   "cell_type": "markdown",
   "id": "5674164b",
   "metadata": {},
   "source": [
    " #  Q2.Write a python program to print the sum and product of the first 10 natural numbers using for and while loop."
   ]
  },
  {
   "cell_type": "code",
   "execution_count": 7,
   "id": "2d94a458",
   "metadata": {},
   "outputs": [
    {
     "name": "stdout",
     "output_type": "stream",
     "text": [
      "sum of first 10 natural numbers 55\n"
     ]
    }
   ],
   "source": [
    "# sum of the first 10 natural numbers\n",
    "sum = 0\n",
    "i = 1\n",
    "while i<=10:\n",
    "    sum+=i\n",
    "    i+=1\n",
    "print(\"sum of first 10 natural numbers\",sum)"
   ]
  },
  {
   "cell_type": "code",
   "execution_count": 3,
   "id": "c3c53ec2",
   "metadata": {},
   "outputs": [
    {
     "name": "stdout",
     "output_type": "stream",
     "text": [
      "Enter the number: 10\n",
      "the product of digit is:  3628800\n"
     ]
    }
   ],
   "source": [
    "# product of the first 10 natural numbers\n",
    "\n",
    "num = int(input(\"Enter the number: \"))\n",
    "product = 1\n",
    "i = 1\n",
    "while(i<=num):\n",
    "    product = product*i\n",
    "    i+=1\n",
    "print(\"the product of digit is: \",product)"
   ]
  },
  {
   "cell_type": "markdown",
   "id": "f3a0cfb8",
   "metadata": {},
   "source": [
    "# Q3. Create a python program to compute the electricity bill for a household.\n",
    "\n",
    "The per-unit charges in rupees are as follows: For the first 100 units, the user will be charged Rs. 4.5 per\n",
    "unit, for the next 100 units, the user will be charged Rs. 6 per unit, and for the next 100 units, the user will\n",
    "be charged Rs. 10 per unit, After 300 units and above the user will be charged Rs. 20 per unit.\n",
    "You are required to take the units of electricity consumed in a month from the user as input.\n",
    "Your program must pass this test case: when the unit of electricity consumed by the user in a month is\n",
    "310, the total electricity bill should be 2250."
   ]
  },
  {
   "cell_type": "code",
   "execution_count": 1,
   "id": "9664ec0d",
   "metadata": {},
   "outputs": [
    {
     "name": "stdout",
     "output_type": "stream",
     "text": [
      "Enter the units: 405\n",
      "the total electricity bill is:  4150.0\n"
     ]
    }
   ],
   "source": [
    "units  = int(input(\"Enter the units: \"))\n",
    "\n",
    "if units <=100:\n",
    "    bill = units*4.5\n",
    "elif units <= 200:\n",
    "    bill = 100 * 4.5 + (units - 100) *6\n",
    "elif units <= 300:\n",
    "    bill = 100 * 4.5 + 100 * 6 + (units - 200)\n",
    "else:\n",
    "    bill = 100* 4.5 + 100 * 6 + 100 * 10 + (units - 300) * 20\n",
    "\n",
    "print(\"the total electricity bill is: \", bill)"
   ]
  },
  {
   "cell_type": "markdown",
   "id": "d5c2c02c",
   "metadata": {},
   "source": [
    "# Q4. Create a list of numbers from 1 to 100. Use for loop and while loop to calculate the cube of each number and if the cube of that number is divisible by 4 or 5 then append that number in a list and print that list."
   ]
  },
  {
   "cell_type": "code",
   "execution_count": 5,
   "id": "ce437f8d",
   "metadata": {},
   "outputs": [
    {
     "name": "stdout",
     "output_type": "stream",
     "text": [
      "[2, 4, 5, 6, 8, 10, 12, 14, 15, 16, 18, 20, 22, 24, 25, 26, 28, 30, 32, 34, 35, 36, 38, 40, 42, 44, 45, 46, 48, 50, 52, 54, 55, 56, 58, 60, 62, 64, 65, 66, 68, 70, 72, 74, 75, 76, 78, 80, 82, 84, 85, 86, 88, 90, 92, 94, 95, 96, 98, 100]\n"
     ]
    }
   ],
   "source": [
    "# For loop \n",
    "cubes_by_4_or_5 = []\n",
    "for num in range(1, 101):\n",
    "  cube = num**3\n",
    "  if cube % 4 == 0 or cube % 5 == 0:\n",
    "    cubes_by_4_or_5.append(num)\n",
    "print(cubes_by_4_or_5)"
   ]
  },
  {
   "cell_type": "code",
   "execution_count": null,
   "id": "50b90709",
   "metadata": {},
   "outputs": [],
   "source": [
    "# for while loop\n"
   ]
  },
  {
   "cell_type": "markdown",
   "id": "ab26b5f8",
   "metadata": {},
   "source": [
    "# Q5.  Write a program to filter count vowels in the below-given string.\n",
    " #         string = \"I want to become a data scientist\""
   ]
  },
  {
   "cell_type": "code",
   "execution_count": 1,
   "id": "5ff775fe",
   "metadata": {},
   "outputs": [
    {
     "name": "stdout",
     "output_type": "stream",
     "text": [
      "i want to become a data scientist\n",
      "vowels 12\n"
     ]
    }
   ],
   "source": [
    "sentence = \"I want to become a data scientist\"\n",
    "str = sentence.lower()\n",
    "print(str)\n",
    "vowels = 0\n",
    "list = [\"a\", \"e\", \"i\", \"o\", \"u\"]\n",
    "for char in str:\n",
    "    if char in list:\n",
    "        vowels +=1\n",
    "print(\"vowels\",vowels)\n",
    "    "
   ]
  },
  {
   "cell_type": "code",
   "execution_count": null,
   "id": "ad35e0ae",
   "metadata": {},
   "outputs": [],
   "source": []
  }
 ],
 "metadata": {
  "kernelspec": {
   "display_name": "Python 3 (ipykernel)",
   "language": "python",
   "name": "python3"
  },
  "language_info": {
   "codemirror_mode": {
    "name": "ipython",
    "version": 3
   },
   "file_extension": ".py",
   "mimetype": "text/x-python",
   "name": "python",
   "nbconvert_exporter": "python",
   "pygments_lexer": "ipython3",
   "version": "3.11.0"
  }
 },
 "nbformat": 4,
 "nbformat_minor": 5
}
